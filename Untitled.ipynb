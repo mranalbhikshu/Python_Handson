{
 "cells": [
  {
   "cell_type": "code",
   "execution_count": 1,
   "metadata": {},
   "outputs": [
    {
     "name": "stdout",
     "output_type": "stream",
     "text": [
      "['banana', 'orange', 'mango']\n",
      "['apple', 'banana', 'cherry']\n"
     ]
    }
   ],
   "source": [
    "mylist11 = ['banana','orange','mango']\n",
    "print mylist11\n",
    "thislist = list((\"apple\",\"banana\",\"cherry\"))\n",
    "print (thislist)\n",
    "\n"
   ]
  },
  {
   "cell_type": "code",
   "execution_count": 2,
   "metadata": {},
   "outputs": [
    {
     "name": "stdout",
     "output_type": "stream",
     "text": [
      "['physics', 'chemistry', 'maths']\n"
     ]
    }
   ],
   "source": [
    "list1 = ['physics','chemistry','maths']\n",
    "print list1"
   ]
  },
  {
   "cell_type": "code",
   "execution_count": 4,
   "metadata": {},
   "outputs": [
    {
     "name": "stdout",
     "output_type": "stream",
     "text": [
      "list1[0]: 1\n",
      "list2[1:5]: [2, 3, 4, 5]\n",
      "list2[-3]: [1, 2, 3, 4, 5, 6, 7, 8]\n"
     ]
    }
   ],
   "source": [
    "list1 = ['physics','chemistry','maths']\n",
    "list2 = [1,2,3,4,5,6,7,8]\n",
    "print \"list1[0]:\",list2[0]\n",
    "print \"list2[1:5]:\",list2[1:5]\n",
    "print \"list2[-3]:\",list2[-8:]"
   ]
  },
  {
   "cell_type": "code",
   "execution_count": 7,
   "metadata": {},
   "outputs": [
    {
     "name": "stdout",
     "output_type": "stream",
     "text": [
      "['orange', 'sweet potato']\n"
     ]
    }
   ],
   "source": [
    "list1 = ['banana','orange','sweet potato']\n",
    "del list1[-3]\n",
    "print list1"
   ]
  },
  {
   "cell_type": "code",
   "execution_count": null,
   "metadata": {},
   "outputs": [],
   "source": []
  }
 ],
 "metadata": {
  "kernelspec": {
   "display_name": "Python 2",
   "language": "python",
   "name": "python2"
  },
  "language_info": {
   "codemirror_mode": {
    "name": "ipython",
    "version": 2
   },
   "file_extension": ".py",
   "mimetype": "text/x-python",
   "name": "python",
   "nbconvert_exporter": "python",
   "pygments_lexer": "ipython2",
   "version": "2.7.16"
  }
 },
 "nbformat": 4,
 "nbformat_minor": 2
}
